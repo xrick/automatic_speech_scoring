{
 "cells": [
  {
   "cell_type": "code",
   "execution_count": null,
   "id": "b3a3c298-486b-4c24-8459-fdddf3890ee5",
   "metadata": {},
   "outputs": [],
   "source": []
  },
  {
   "cell_type": "code",
   "execution_count": 1,
   "id": "d375833f-908c-4634-b7cf-1451511a9253",
   "metadata": {},
   "outputs": [],
   "source": [
    "import azure.cognitiveservices.speech as speechsdk"
   ]
  },
  {
   "cell_type": "markdown",
   "id": "936d0725-a044-4d00-8df5-0e7820687990",
   "metadata": {},
   "source": [
    "#### About the settings\n",
    "The <b>endpoint</b> should look like:\n",
    "<br>\n",
    "https://your-resource-name.cognitiveservices.azure.com/\n",
    "<br>\n",
    "or for some regions:\n",
    "<br>\n",
    "https://your-resource-name.region.cognitiveservices.azure.com/\n",
    "<br>\n",
    "Make sure you do not use the generic documentation endpoint (https://endpoint.api.cognitive.microsoft.com/).<br>\n",
    "Instead, use the endpoint from your Speech resource in Azure.\n",
    "<br>\n",
    "<br>\n",
    "The speech config can be set using region or endpoint\n",
    "speech_config = speechsdk.SpeechConfig(subscription=subscription_key, region=\"eastus\")"
   ]
  },
  {
   "cell_type": "code",
   "execution_count": 2,
   "id": "7a61efc3-549f-4934-9400-b808836125c9",
   "metadata": {},
   "outputs": [],
   "source": [
    "subscription_key  = \"02KqGB8EDonpmVbrFYwd5Dm7cGdvR7e3jdUdaVDiRqRYq8kCaaSUJQQJ99BCACYeBjFXJ3w3AAAYACOGE4wU\"#\"7c400507-6b30-4a2f-97f9-5baa6c9e4e28\" \n",
    "speech_endpoint = \"https://speech_assessment_1.eastus.api.cognitive.microsoft.com/\"\n",
    "region=\"eastus\"\n",
    "language=\"en-US\"  # 可根據需求修改語言"
   ]
  },
  {
   "cell_type": "code",
   "execution_count": 5,
   "id": "e55fddb0-f9da-4ab7-856e-98157ef2248b",
   "metadata": {},
   "outputs": [],
   "source": [
    "audio_file = \"./testdata/test01_v2.wav\"\n",
    "transcribe_txt = \"GIVE NOT SO EARNEST A MIND TO THESE MUMMERIES CHILD\""
   ]
  },
  {
   "cell_type": "code",
   "execution_count": 6,
   "id": "0135393c-4c7b-4328-aa76-0fabdb250f75",
   "metadata": {},
   "outputs": [],
   "source": [
    "audio_config = speechsdk.audio.AudioConfig(filename=audio_file)\n",
    "# 創建發音評估配置\n",
    "pronunciation_config = speechsdk.PronunciationAssessmentConfig(\n",
    "    reference_text=transcribe_txt,\n",
    "    grading_system=speechsdk.PronunciationAssessmentGradingSystem.HundredMark,\n",
    "    granularity=speechsdk.PronunciationAssessmentGranularity.Phoneme,\n",
    "    enable_miscue=True\n",
    ")\n",
    "pronunciation_config.enable_prosody_assessment()"
   ]
  },
  {
   "cell_type": "code",
   "execution_count": 7,
   "id": "17109b2e-952b-4dc5-a9ad-798a871446b9",
   "metadata": {},
   "outputs": [],
   "source": [
    "speech_config = speechsdk.SpeechConfig(subscription=subscription_key, region=region )"
   ]
  },
  {
   "cell_type": "code",
   "execution_count": 8,
   "id": "346189b3-6d33-4f60-b05e-98f11ae61a75",
   "metadata": {},
   "outputs": [],
   "source": [
    "speech_recognizer = speechsdk.SpeechRecognizer(speech_config=speech_config, audio_config=audio_config, language=language)"
   ]
  },
  {
   "cell_type": "code",
   "execution_count": 9,
   "id": "734dc9c0-0267-42f5-bff0-db2125e0584e",
   "metadata": {},
   "outputs": [],
   "source": [
    "# 應用發音評估配置\n",
    "pronunciation_config.apply_to(speech_recognizer)"
   ]
  },
  {
   "cell_type": "code",
   "execution_count": 10,
   "id": "0a3f4f71-fe5a-4bf1-a8ba-1e83a2b75fd7",
   "metadata": {},
   "outputs": [],
   "source": [
    "# 執行識別\n",
    "result = speech_recognizer.recognize_once_async().get()\n",
    "pronunciation_result=None\n",
    "if result.reason == speechsdk.ResultReason.RecognizedSpeech:\n",
    "    pronunciation_result = speechsdk.PronunciationAssessmentResult(result)\n",
    "else:\n",
    "    raise Exception(f\"Speech recognition failed: {result.reason}\")"
   ]
  },
  {
   "cell_type": "code",
   "execution_count": 13,
   "id": "8e52d59c-6e46-4b32-a86a-8242c5f9246d",
   "metadata": {},
   "outputs": [
    {
     "name": "stdout",
     "output_type": "stream",
     "text": [
      "97.0\n",
      "100.0\n",
      "95.7\n"
     ]
    }
   ],
   "source": [
    "print(pronunciation_result.accuracy_score)\n",
    "print(pronunciation_result.fluency_score)\n",
    "print(pronunciation_result.pronunciation_score)"
   ]
  },
  {
   "cell_type": "code",
   "execution_count": null,
   "id": "7541aec4-40f6-44f3-b541-2c0d56667751",
   "metadata": {},
   "outputs": [],
   "source": []
  },
  {
   "cell_type": "markdown",
   "id": "3ed1527d-e13c-44bf-914b-bf43683af598",
   "metadata": {},
   "source": [
    "#### Bug and Fix\n",
    "- Exception with an error code: 0xa (SPXERR_INVALID_HEADER)\n",
    "  主要原因是 Azure Speech SDK 不支援直接用 MP3 檔案作為輸入，預設只能處理標準的 PCM/WAV 格式音訊檔案<br>\n",
    "  問題分析:<br>\n",
    "      - Azure Speech SDK 預設只支援 16kHz, 16bit, mono 的 WAV (PCM) 檔案。<br>\n",
    "      - 你目前用的是 MP3 格式，這會導致「無效標頭」(invalid header) 的錯誤，因為 SDK 讀不到正確的 PCM 資訊<br>\n",
    "      - 如果你一定要用 MP3，需額外處理（例如用 GStreamer 或先轉檔）。<br>\n",
    "  解決步驟:<br>\n",
    "    1. 將 MP3 轉換為 WAV (16kHz, 16bit, mono)<br>\n",
    "        你可以用 ffmpeg 或 pydub 來轉檔。以下是兩種常見方法：<br>\n",
    "\n",
    "        方法一：<b>用 ffmpeg（推薦）</b><br>\n",
    "        在終端機執行：\n",
    "    ```bash\n",
    "        ffmpeg -i ./testdata/test01.mp3 -ar 16000 -ac 1 -acodec pcm_s16le ./testdata/test01.wav\n",
    "    ```\n",
    "    2. 方法二：<b>用 Python pydub</b>\n",
    "    ```python\n",
    "        from pydub import AudioSegment\n",
    "        sound = AudioSegment.from_mp3(\"./testdata/test01.mp3\")\n",
    "        sound = sound.set_frame_rate(16000).set_channels(1).set_sample_width(2)\n",
    "        sound.export(\"./testdata/test01.wav\", format=\"wav\")\n",
    "    ```\n",
    "  小結:<br>\n",
    "    SPXERR_INVALID_HEADER 幾乎都是音訊格式不符造成，尤其是直接用 MP3。  \n",
    "    請務必轉成 16kHz、16bit、單聲道的 WAV 檔案再進行辨識。  \n",
    "    轉檔後再執行你的原始程式即可順利運作。  \n",
    "    如需更進階的 MP3 支援，請參考官方文件如何串接 GStreamer，但一般專案直接轉 WAV 最簡單  "
   ]
  },
  {
   "cell_type": "code",
   "execution_count": null,
   "id": "9704415e-8fa6-4049-98c6-2318fe8f2278",
   "metadata": {},
   "outputs": [],
   "source": []
  },
  {
   "cell_type": "code",
   "execution_count": null,
   "id": "bfe4136a-dbe1-4a86-b1f1-9398b89ce90e",
   "metadata": {},
   "outputs": [],
   "source": []
  }
 ],
 "metadata": {
  "kernelspec": {
   "display_name": "Python 3 (ipykernel)",
   "language": "python",
   "name": "python3"
  },
  "language_info": {
   "codemirror_mode": {
    "name": "ipython",
    "version": 3
   },
   "file_extension": ".py",
   "mimetype": "text/x-python",
   "name": "python",
   "nbconvert_exporter": "python",
   "pygments_lexer": "ipython3",
   "version": "3.11.11"
  }
 },
 "nbformat": 4,
 "nbformat_minor": 5
}
