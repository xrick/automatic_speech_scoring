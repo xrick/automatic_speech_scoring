{
 "cells": [
  {
   "cell_type": "code",
   "execution_count": null,
   "id": "b3a3c298-486b-4c24-8459-fdddf3890ee5",
   "metadata": {},
   "outputs": [],
   "source": []
  },
  {
   "cell_type": "code",
   "execution_count": 1,
   "id": "d375833f-908c-4634-b7cf-1451511a9253",
   "metadata": {},
   "outputs": [],
   "source": [
    "import azure.cognitiveservices.speech as speechsdk"
   ]
  },
  {
   "cell_type": "markdown",
   "id": "936d0725-a044-4d00-8df5-0e7820687990",
   "metadata": {},
   "source": [
    "#### About the settings\n",
    "The <b>endpoint</b> should look like:\n",
    "<br>\n",
    "https://your-resource-name.cognitiveservices.azure.com/\n",
    "<br>\n",
    "or for some regions:\n",
    "<br>\n",
    "https://your-resource-name.region.cognitiveservices.azure.com/\n",
    "<br>\n",
    "Make sure you do not use the generic documentation endpoint (https://endpoint.api.cognitive.microsoft.com/).<br>\n",
    "Instead, use the endpoint from your Speech resource in Azure.\n",
    "<br>\n",
    "<br>\n",
    "The speech config can be set using region or endpoint\n",
    "speech_config = speechsdk.SpeechConfig(subscription=subscription_key, region=\"eastus\")"
   ]
  },
  {
   "cell_type": "code",
   "execution_count": 2,
   "id": "7a61efc3-549f-4934-9400-b808836125c9",
   "metadata": {},
   "outputs": [],
   "source": [
    "subscription_key  = \"02KqGB8EDonpmVbrFYwd5Dm7cGdvR7e3jdUdaVDiRqRYq8kCaaSUJQQJ99BCACYeBjFXJ3w3AAAYACOGE4wU\"#\"7c400507-6b30-4a2f-97f9-5baa6c9e4e28\" \n",
    "speech_endpoint = \"https://speech_assessment_1.eastus.api.cognitive.microsoft.com/\"\n",
    "region=\"eastus\"\n",
    "language=\"en-US\"  # 可根據需求修改語言"
   ]
  },
  {
   "cell_type": "code",
   "execution_count": 5,
   "id": "e55fddb0-f9da-4ab7-856e-98157ef2248b",
   "metadata": {},
   "outputs": [],
   "source": [
    "audio_file = \"./testdata/test01_v2.wav\"\n",
    "transcribe_txt = \"GIVE NOT SO EARNEST A MIND TO THESE MUMMERIES CHILD\""
   ]
  },
  {
   "cell_type": "code",
   "execution_count": 6,
   "id": "0135393c-4c7b-4328-aa76-0fabdb250f75",
   "metadata": {},
   "outputs": [],
   "source": [
    "audio_config = speechsdk.audio.AudioConfig(filename=audio_file)\n",
    "# 創建發音評估配置\n",
    "pronunciation_config = speechsdk.PronunciationAssessmentConfig(\n",
    "    reference_text=transcribe_txt,\n",
    "    grading_system=speechsdk.PronunciationAssessmentGradingSystem.HundredMark,\n",
    "    granularity=speechsdk.PronunciationAssessmentGranularity.Phoneme,\n",
    "    enable_miscue=True\n",
    ")\n",
    "pronunciation_config.enable_prosody_assessment()"
   ]
  },
  {
   "cell_type": "code",
   "execution_count": 7,
   "id": "17109b2e-952b-4dc5-a9ad-798a871446b9",
   "metadata": {},
   "outputs": [],
   "source": [
    "speech_config = speechsdk.SpeechConfig(subscription=subscription_key, region=region )"
   ]
  },
  {
   "cell_type": "code",
   "execution_count": 8,
   "id": "346189b3-6d33-4f60-b05e-98f11ae61a75",
   "metadata": {},
   "outputs": [],
   "source": [
    "speech_recognizer = speechsdk.SpeechRecognizer(speech_config=speech_config, audio_config=audio_config, language=language)"
   ]
  },
  {
   "cell_type": "code",
   "execution_count": 9,
   "id": "734dc9c0-0267-42f5-bff0-db2125e0584e",
   "metadata": {},
   "outputs": [],
   "source": [
    "# 應用發音評估配置\n",
    "pronunciation_config.apply_to(speech_recognizer)"
   ]
  },
  {
   "cell_type": "code",
   "execution_count": 10,
   "id": "0a3f4f71-fe5a-4bf1-a8ba-1e83a2b75fd7",
   "metadata": {},
   "outputs": [],
   "source": [
    "# 執行識別\n",
    "result = speech_recognizer.recognize_once_async().get()\n",
    "pronunciation_result=None\n",
    "if result.reason == speechsdk.ResultReason.RecognizedSpeech:\n",
    "    pronunciation_result = speechsdk.PronunciationAssessmentResult(result)\n",
    "else:\n",
    "    raise Exception(f\"Speech recognition failed: {result.reason}\")"
   ]
  },
  {
   "cell_type": "code",
   "execution_count": 13,
   "id": "8e52d59c-6e46-4b32-a86a-8242c5f9246d",
   "metadata": {},
   "outputs": [
    {
     "name": "stdout",
     "output_type": "stream",
     "text": [
      "97.0\n",
      "100.0\n",
      "95.7\n"
     ]
    }
   ],
   "source": [
    "print(pronunciation_result.accuracy_score)\n",
    "print(pronunciation_result.fluency_score)\n",
    "print(pronunciation_result.pronunciation_score)"
   ]
  },
  {
   "cell_type": "code",
   "execution_count": null,
   "id": "5884d914-792e-4846-a4d5-64738dfb7548",
   "metadata": {},
   "outputs": [],
   "source": []
  }
 ],
 "metadata": {
  "kernelspec": {
   "display_name": "Python 3 (ipykernel)",
   "language": "python",
   "name": "python3"
  },
  "language_info": {
   "codemirror_mode": {
    "name": "ipython",
    "version": 3
   },
   "file_extension": ".py",
   "mimetype": "text/x-python",
   "name": "python",
   "nbconvert_exporter": "python",
   "pygments_lexer": "ipython3",
   "version": "3.11.11"
  }
 },
 "nbformat": 4,
 "nbformat_minor": 5
}
