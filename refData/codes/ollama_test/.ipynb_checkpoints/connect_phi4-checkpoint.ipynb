{
 "cells": [
  {
   "cell_type": "code",
   "execution_count": null,
   "id": "94178658-5be3-441c-bef6-46cd1fe5444f",
   "metadata": {},
   "outputs": [
    {
     "name": "stdout",
     "output_type": "stream",
     "text": [
      "Found existing installation: httpx 0.26.0\n",
      "Uninstalling httpx-0.26.0:\n",
      "  Would remove:\n",
      "    /Users/xrickliao/miniconda3/miniconda3/envs/llmenv/bin/httpx\n",
      "    /Users/xrickliao/miniconda3/miniconda3/envs/llmenv/lib/python3.11/site-packages/httpx-0.26.0.dist-info/*\n",
      "    /Users/xrickliao/miniconda3/miniconda3/envs/llmenv/lib/python3.11/site-packages/httpx/*\n",
      "Proceed (Y/n)? "
     ]
    }
   ],
   "source": []
  },
  {
   "cell_type": "code",
   "execution_count": null,
   "id": "79a2b504-864a-4888-bff5-aea1418d093d",
   "metadata": {},
   "outputs": [],
   "source": []
  }
 ],
 "metadata": {
  "kernelspec": {
   "display_name": "Python 3 (ipykernel)",
   "language": "python",
   "name": "python3"
  },
  "language_info": {
   "codemirror_mode": {
    "name": "ipython",
    "version": 3
   },
   "file_extension": ".py",
   "mimetype": "text/x-python",
   "name": "python",
   "nbconvert_exporter": "python",
   "pygments_lexer": "ipython3",
   "version": "3.12.7"
  }
 },
 "nbformat": 4,
 "nbformat_minor": 5
}
