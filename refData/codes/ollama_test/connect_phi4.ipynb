{
 "cells": [
  {
   "cell_type": "code",
   "execution_count": 4,
   "id": "94178658-5be3-441c-bef6-46cd1fe5444f",
   "metadata": {},
   "outputs": [],
   "source": [
    "from ollama import chat"
   ]
  },
  {
   "cell_type": "code",
   "execution_count": 5,
   "id": "79a2b504-864a-4888-bff5-aea1418d093d",
   "metadata": {},
   "outputs": [
    {
     "name": "stdout",
     "output_type": "stream",
     "text": [
      "The sky appears blue due to a phenomenon called Rayleigh scattering. This occurs when sunlight, which consists of various colors, enters Earth's atmosphere and interacts with molecules and small particles.\n",
      "\n",
      "Sunlight is made up of different colors, each with its own wavelength. Blue light has shorter wavelengths compared to other colors like red or yellow. When sunlight passes through the atmosphere, these shorter blue wavelengths are scattered in all directions by gases and particles in the air more than the longer wavelengths (such as red and yellow).\n",
      "\n",
      "Because blue light is scattered in every direction, it reaches our eyes from all parts of the sky, making the entire sky appear blue during the day. This scattering effect is more pronounced when the sun is higher in the sky because there's less atmosphere for the sunlight to pass through, thus enhancing the blue appearance.\n",
      "\n",
      "At sunrise and sunset, however, the light has to travel through a greater thickness of Earth’s atmosphere. During this time, most of the shorter wavelengths are scattered out before they reach our eyes, allowing the longer wavelengths like reds and oranges to dominate, giving the sky its beautiful hues during these times.\n"
     ]
    }
   ],
   "source": [
    "messages = [\n",
    "  {\n",
    "    'role': 'user',\n",
    "    'content': 'Why is the sky blue?',\n",
    "  },\n",
    "]\n",
    "\n",
    "for part in chat('phi4:latest', messages=messages, stream=True):\n",
    "  print(part['message']['content'], end='', flush=True)\n",
    "\n",
    "print()"
   ]
  },
  {
   "cell_type": "code",
   "execution_count": null,
   "id": "d64ffff6",
   "metadata": {},
   "outputs": [],
   "source": []
  }
 ],
 "metadata": {
  "kernelspec": {
   "display_name": "llmenv",
   "language": "python",
   "name": "python3"
  },
  "language_info": {
   "codemirror_mode": {
    "name": "ipython",
    "version": 3
   },
   "file_extension": ".py",
   "mimetype": "text/x-python",
   "name": "python",
   "nbconvert_exporter": "python",
   "pygments_lexer": "ipython3",
   "version": "3.11.11"
  }
 },
 "nbformat": 4,
 "nbformat_minor": 5
}
