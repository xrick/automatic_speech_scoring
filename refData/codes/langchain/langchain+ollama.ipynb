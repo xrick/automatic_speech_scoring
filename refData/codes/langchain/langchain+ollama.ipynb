{
 "cells": [
  {
   "cell_type": "code",
   "execution_count": 1,
   "metadata": {},
   "outputs": [],
   "source": [
    "from langchain_core.prompts import ChatPromptTemplate\n",
    "from langchain_ollama.llms import OllamaLLM\n",
    "from langchain_ollama import  ChatOllama"
   ]
  },
  {
   "cell_type": "code",
   "execution_count": 2,
   "metadata": {},
   "outputs": [],
   "source": [
    "model = \"phi4:latest\""
   ]
  },
  {
   "cell_type": "code",
   "execution_count": 3,
   "metadata": {},
   "outputs": [],
   "source": [
    "# template = \"\"\"Question: {question}\n",
    "\n",
    "# Answer: Let's think step by step.\"\"\"\n",
    "\n",
    "# prompt = ChatPromptTemplate.from_template(template)\n",
    "\n",
    "# model = OllamaLLM(model=model)\n",
    "\n",
    "# chain = prompt | model\n",
    "\n",
    "# chain.invoke({\"question\": \"What is vector database?\"})"
   ]
  },
  {
   "cell_type": "code",
   "execution_count": 4,
   "metadata": {},
   "outputs": [
    {
     "name": "stdout",
     "output_type": "stream",
     "text": [
      "\n",
      "    System:you are a perfect english spelling checker.\n",
      "    User:\n",
      "    1.please do spelling checking for the following senteces.\n",
      "    2.Do not change the style, form, and structure of the sentences.\n",
      "    3.only return the corrected sentences\n",
      "    sentences:\n",
      "    Hi, helllloo word, this is an englsh sentence.\n",
      "\n",
      "\n"
     ]
    },
    {
     "data": {
      "text/plain": [
       "'Hi, hello world, this is an English sentence.'"
      ]
     },
     "execution_count": 4,
     "metadata": {},
     "output_type": "execute_result"
    }
   ],
   "source": [
    "context=\"Hi, helllloo word, this is an englsh sentence.\"\n",
    "chatstr=f\"\"\"\n",
    "    System:you are a perfect english spelling checker.\n",
    "    User:\n",
    "    1.please do spelling checking for the following senteces.\n",
    "    2.Do not change the style, form, and structure of the sentences.\n",
    "    3.only return the corrected sentences\n",
    "    sentences:\n",
    "    {context}\\n\n",
    "\"\"\"\n",
    "print(chatstr)\n",
    "llm = OllamaLLM(model=model)\n",
    "llm.invoke(chatstr)"
   ]
  },
  {
   "cell_type": "code",
   "execution_count": null,
   "metadata": {},
   "outputs": [],
   "source": []
  }
 ],
 "metadata": {
  "kernelspec": {
   "display_name": "llmenv",
   "language": "python",
   "name": "python3"
  },
  "language_info": {
   "codemirror_mode": {
    "name": "ipython",
    "version": 3
   },
   "file_extension": ".py",
   "mimetype": "text/x-python",
   "name": "python",
   "nbconvert_exporter": "python",
   "pygments_lexer": "ipython3",
   "version": "3.11.11"
  }
 },
 "nbformat": 4,
 "nbformat_minor": 2
}
