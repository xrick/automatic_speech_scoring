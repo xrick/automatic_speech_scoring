{
 "cells": [
  {
   "cell_type": "code",
   "execution_count": 24,
   "id": "5e4c7f98-482c-4e6b-9fb0-f52a18f5d2ad",
   "metadata": {},
   "outputs": [],
   "source": [
    "import os\n",
    "from pymilvus import (\n",
    "    connections,\n",
    "    utility,\n",
    "    FieldSchema, CollectionSchema, DataType,\n",
    "    Collection,\n",
    ")\n",
    "from pymilvus.client.types import LoadState"
   ]
  },
  {
   "cell_type": "code",
   "execution_count": null,
   "id": "dc842785-a319-4c00-95a0-53bbf596a652",
   "metadata": {},
   "outputs": [],
   "source": []
  },
  {
   "cell_type": "code",
   "execution_count": 13,
   "id": "7c9ef9f3-407b-4e0e-a8a6-fe488b65ed5a",
   "metadata": {},
   "outputs": [],
   "source": [
    "def chk_if_file_existed(theFile:str=None)->bool:\n",
    "    if os.path.isfile(theFile):\n",
    "        return True\n",
    "    else:\n",
    "        return False"
   ]
  },
  {
   "cell_type": "code",
   "execution_count": 27,
   "id": "17a8465a-b313-44b0-8eba-3566d079c4dd",
   "metadata": {},
   "outputs": [
    {
     "name": "stdout",
     "output_type": "stream",
     "text": [
      "\n",
      "=== start connecting to Milvus     ===\n",
      "\n"
     ]
    }
   ],
   "source": [
    "fmt = \"\\n=== {:30} ===\\n\"\n",
    "print(fmt.format(\"start connecting to Milvus\"))\n",
    "_dbName = \"./milvus_demo.db\"\n",
    "_collectName=\"speechTopics\"\n",
    "client = None"
   ]
  },
  {
   "cell_type": "code",
   "execution_count": 23,
   "id": "ed506268-4bb8-4206-9918-45fab65c2ecb",
   "metadata": {},
   "outputs": [
    {
     "name": "stdout",
     "output_type": "stream",
     "text": [
      "./milvus_demo.db is loaded.\n"
     ]
    }
   ],
   "source": [
    "if not chk_if_file_existed(_dbName):\n",
    "    client = MilvusClient.create_database(db_name=_dbName)\n",
    "    print(f\"{_dbName} is created.\")\n",
    "else:\n",
    "    connections.connect(uri=_dbName)\n",
    "    print(f\"{_dbName} is loaded.\")"
   ]
  },
  {
   "cell_type": "code",
   "execution_count": 28,
   "id": "e4409f24-a6af-4169-baf3-04653288632f",
   "metadata": {},
   "outputs": [
    {
     "name": "stdout",
     "output_type": "stream",
     "text": [
      "Does collection hello_milvus exist in Milvus: False\n"
     ]
    }
   ],
   "source": [
    "has = utility.has_collection(_collectName)\n",
    "print(f\"Does collection hello_milvus exist in Milvus: {has}\")"
   ]
  },
  {
   "cell_type": "code",
   "execution_count": null,
   "id": "7490a9bc-4704-4bcb-b349-afc02f304cf5",
   "metadata": {},
   "outputs": [],
   "source": [
    "fields = [\n",
    "    FieldSchema(name=\"pk\", dtype=DataType.INT64, is_primary=True, auto_id=True),\n",
    "    FieldSchema(name=\"topic\", dtype=DataType.VARCHAR, max_length=100),\n",
    "    FieldSchema(name=\"description\", dtype=DataType.VARCHAR, max_length=100),\n",
    "    FieldSchema(name=\"embeddings\", dtype=DataType.FLOAT_VECTOR, dim=dim)\n",
    "]"
   ]
  },
  {
   "cell_type": "code",
   "execution_count": 26,
   "id": "26fddda3-d6b8-4672-83f8-7fccf960a2ea",
   "metadata": {},
   "outputs": [
    {
     "name": "stdout",
     "output_type": "stream",
     "text": [
      "\n",
      "=== start connecting to Milvus     ===\n",
      "\n"
     ]
    }
   ],
   "source": []
  },
  {
   "cell_type": "code",
   "execution_count": null,
   "id": "d043bd38-0e91-4bac-adb3-10e2dba9d0a8",
   "metadata": {},
   "outputs": [],
   "source": []
  }
 ],
 "metadata": {
  "kernelspec": {
   "display_name": "Python 3 (ipykernel)",
   "language": "python",
   "name": "python3"
  },
  "language_info": {
   "codemirror_mode": {
    "name": "ipython",
    "version": 3
   },
   "file_extension": ".py",
   "mimetype": "text/x-python",
   "name": "python",
   "nbconvert_exporter": "python",
   "pygments_lexer": "ipython3",
   "version": "3.11.11"
  }
 },
 "nbformat": 4,
 "nbformat_minor": 5
}
