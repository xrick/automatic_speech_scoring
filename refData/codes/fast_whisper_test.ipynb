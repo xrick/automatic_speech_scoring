{
 "cells": [
  {
   "cell_type": "code",
   "execution_count": 1,
   "id": "fbf2965f-04e5-463f-991e-7ca29f4e2dee",
   "metadata": {},
   "outputs": [
    {
     "name": "stderr",
     "output_type": "stream",
     "text": [
      "/opt/homebrew/Cellar/jupyterlab/4.2.5_1/libexec/lib/python3.12/site-packages/tqdm/auto.py:21: TqdmWarning: IProgress not found. Please update jupyter and ipywidgets. See https://ipywidgets.readthedocs.io/en/stable/user_install.html\n",
      "  from .autonotebook import tqdm as notebook_tqdm\n"
     ]
    }
   ],
   "source": [
    "from faster_whisper import WhisperModel"
   ]
  },
  {
   "cell_type": "code",
   "execution_count": 2,
   "id": "132ca80c-13ee-4cb6-90ec-f4781bcb50d3",
   "metadata": {},
   "outputs": [],
   "source": [
    "# %pip install --upgrade pip"
   ]
  },
  {
   "cell_type": "code",
   "execution_count": 8,
   "id": "fa5b8110-a3bb-4b33-99fd-fc7a898cca42",
   "metadata": {},
   "outputs": [
    {
     "name": "stdout",
     "output_type": "stream",
     "text": [
      "Detected language 'en' with probability 0.948205\n",
      "[0.00s -> 5.00s]  This is a speech assessment test.\n"
     ]
    }
   ],
   "source": [
    "model_size = \"distil-large-v3\"\n",
    "model_path = \"/Users/xrickliao/WorkSpaces/LLM_Repo/models/Whisper/Models/faster_distil_whisper_large_v3_snapdwn/\"\n",
    "model = WhisperModel(model_size, device=\"cpu\", compute_type=\"int8\", download_root=model_path, local_files_only=True)\n",
    "\n",
    "segments, info = model.transcribe(\"../../web/recordings/recording_20250309_085027.wav\", beam_size=5)\n",
    "\n",
    "print(\"Detected language '%s' with probability %f\" % (info.language, info.language_probability))\n",
    "\n",
    "for segment in segments:\n",
    "    print(\"[%.2fs -> %.2fs] %s\" % (segment.start, segment.end, segment.text))"
   ]
  },
  {
   "cell_type": "code",
   "execution_count": null,
   "id": "0c432463-eda6-4d9a-9280-1ab46fb98a96",
   "metadata": {},
   "outputs": [],
   "source": []
  }
 ],
 "metadata": {
  "kernelspec": {
   "display_name": "Python 3 (ipykernel)",
   "language": "python",
   "name": "python3"
  },
  "language_info": {
   "codemirror_mode": {
    "name": "ipython",
    "version": 3
   },
   "file_extension": ".py",
   "mimetype": "text/x-python",
   "name": "python",
   "nbconvert_exporter": "python",
   "pygments_lexer": "ipython3",
   "version": "3.12.7"
  }
 },
 "nbformat": 4,
 "nbformat_minor": 5
}
